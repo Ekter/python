{
 "cells": [
  {
   "cell_type": "code",
   "execution_count": 5,
   "metadata": {},
   "outputs": [
    {
     "name": "stdout",
     "output_type": "stream",
     "text": [
      "a\n"
     ]
    }
   ],
   "source": [
    "print(\"a\")\n",
    "from numpy import nan"
   ]
  },
  {
   "cell_type": "code",
   "execution_count": 6,
   "metadata": {},
   "outputs": [
    {
     "name": "stdout",
     "output_type": "stream",
     "text": [
      "['Série 1', 'Série 2', 'Série 3', 'Série 4', 'Série 1', 'Série 2', 'Série 3', 'Série 4', 'Série 1', 'Série 2', 'Série 3', 'Série 4', 'Série 1', 'Série 2', 'Série 3', 'Série 4', nan, 'Série 1', 'Série 2', 'Série 3', 'Série 4', 'Série 1', 'Série 2', 'Série 3', 'Série 4', 'Série 1', 'Série 2', 'Série 3', 'Série 4', 'Série 1', 'Série 2', 'Série 3', 'Série 4', 'Série 1', 'Série 2', 'Série 3', 'Série 4', 'Série 1', 'Série 2', 'Série 3', 'Série 4', nan]\n"
     ]
    }
   ],
   "source": [
    "liste1 =  ['Série 1', 'Série 2', 'Série 3', 'Série 4', 'Série 1', 'Série 2', 'Série 3',\n",
    "           'Série 4', 'Série 1', 'Série 2', 'Série 3', 'Série 4', 'Série 1', 'Série 2',\n",
    "           'Série 3', 'Série 4', nan, 'Série 1', 'Série 2', 'Série 3', 'Série 4', 'Série 1',\n",
    "           'Série 2', 'Série 3', 'Série 4', 'Série 1', 'Série 2', 'Série 3', 'Série 4',\n",
    "           'Série 1', 'Série 2', 'Série 3', 'Série 4', 'Série 1', 'Série 2', 'Série 3',\n",
    "           'Série 4', 'Série 1', 'Série 2', 'Série 3', 'Série 4', nan]\n",
    "print(liste1)"
   ]
  },
  {
   "cell_type": "code",
   "execution_count": 7,
   "metadata": {},
   "outputs": [
    {
     "name": "stdout",
     "output_type": "stream",
     "text": [
      "Série 1\n"
     ]
    }
   ],
   "source": [
    "str1 = liste1[0]\n",
    "print(str1)"
   ]
  },
  {
   "cell_type": "code",
   "execution_count": 9,
   "metadata": {},
   "outputs": [
    {
     "name": "stdout",
     "output_type": "stream",
     "text": [
      "[], ['Série 1', 'Série 2', 'Série 3', 'Série 4', ], ['Série 1', 'Série 2', 'Série 3', 'Série 4', ], ['Série 1', 'Série 2', 'Série 3', 'Série 4', ], ['Série 1', 'Série 2', 'Série 3', 'Série 4', 'SEPARE', ], ['Série 1', 'Série 2', 'Série 3', 'Série 4', ], ['Série 1', 'Série 2', 'Série 3', 'Série 4', ], ['Série 1', 'Série 2', 'Série 3', 'Série 4', ], ['Série 1', 'Série 2', 'Série 3', 'Série 4', ], ['Série 1', 'Série 2', 'Série 3', 'Série 4', ], ['Série 1', 'Série 2', 'Série 3', 'Série 4', 'SEPARE']\n"
     ]
    }
   ],
   "source": [
    "str2 = str(liste1).replace(\"nan\",\"'SEPARE'\").replace(f\"'{str1}'\", f\"], ['{str1}'\")\n",
    "print(str2)"
   ]
  },
  {
   "cell_type": "code",
   "execution_count": 11,
   "metadata": {},
   "outputs": [
    {
     "name": "stdout",
     "output_type": "stream",
     "text": [
      "[ ['Série 1', 'Série 2', 'Série 3', 'Série 4', ], ['Série 1', 'Série 2', 'Série 3', 'Série 4', ], ['Série 1', 'Série 2', 'Série 3', 'Série 4', ], ['Série 1', 'Série 2', 'Série 3', 'Série 4', 'SEPARE', ], ['Série 1', 'Série 2', 'Série 3', 'Série 4', ], ['Série 1', 'Série 2', 'Série 3', 'Série 4', ], ['Série 1', 'Série 2', 'Série 3', 'Série 4', ], ['Série 1', 'Série 2', 'Série 3', 'Série 4', ], ['Série 1', 'Série 2', 'Série 3', 'Série 4', ], ['Série 1', 'Série 2', 'Série 3', 'Série 4', 'SEPARE']]\n",
      "[['Série 1', 'Série 2', 'Série 3', 'Série 4'], ['Série 1', 'Série 2', 'Série 3', 'Série 4'], ['Série 1', 'Série 2', 'Série 3', 'Série 4'], ['Série 1', 'Série 2', 'Série 3', 'Série 4', 'SEPARE'], ['Série 1', 'Série 2', 'Série 3', 'Série 4'], ['Série 1', 'Série 2', 'Série 3', 'Série 4'], ['Série 1', 'Série 2', 'Série 3', 'Série 4'], ['Série 1', 'Série 2', 'Série 3', 'Série 4'], ['Série 1', 'Série 2', 'Série 3', 'Série 4'], ['Série 1', 'Série 2', 'Série 3', 'Série 4', 'SEPARE']]\n",
      "<class 'list'>\n"
     ]
    }
   ],
   "source": [
    "str3 = \"[\"+str2[3:-1] + \"]]\"\n",
    "print(str3)\n",
    "liste2 = eval(str3)\n",
    "print(liste2)\n",
    "print(type(liste2))"
   ]
  }
 ],
 "metadata": {
  "kernelspec": {
   "display_name": "venv",
   "language": "python",
   "name": "python3"
  },
  "language_info": {
   "codemirror_mode": {
    "name": "ipython",
    "version": 3
   },
   "file_extension": ".py",
   "mimetype": "text/x-python",
   "name": "python",
   "nbconvert_exporter": "python",
   "pygments_lexer": "ipython3",
   "version": "3.11.2"
  },
  "orig_nbformat": 4
 },
 "nbformat": 4,
 "nbformat_minor": 2
}
